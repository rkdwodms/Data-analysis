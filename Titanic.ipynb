{
  "nbformat": 4,
  "nbformat_minor": 0,
  "metadata": {
    "colab": {
      "name": "Titanic.ipynb",
      "provenance": [],
      "authorship_tag": "ABX9TyN1zVOHjlNGU9sGWtWEIPay",
      "include_colab_link": true
    },
    "kernelspec": {
      "name": "python3",
      "display_name": "Python 3"
    },
    "language_info": {
      "name": "python"
    }
  },
  "cells": [
    {
      "cell_type": "markdown",
      "metadata": {
        "id": "view-in-github",
        "colab_type": "text"
      },
      "source": [
        "<a href=\"https://colab.research.google.com/github/rkdwodms/Data-analysis/blob/main/Titanic.ipynb\" target=\"_parent\"><img src=\"https://colab.research.google.com/assets/colab-badge.svg\" alt=\"Open In Colab\"/></a>"
      ]
    },
    {
      "cell_type": "code",
      "metadata": {
        "colab": {
          "base_uri": "https://localhost:8080/"
        },
        "id": "V4c3r9Rjdv9Y",
        "outputId": "38c39f3c-1ae0-43d0-8acc-ce94b51dda73"
      },
      "source": [
        "from google.colab import drive\n",
        "import pandas as pd\n",
        "drive.mount('/gdrive')\n",
        "\n",
        "# 데이터 불러오기\n",
        "\n",
        "train = pd.read_csv('/gdrive/My Drive/Colab Notebooks/data/Titanic_train.csv')\n",
        "test = pd.read_csv('/gdrive/My Drive/Colab Notebooks/data/Titanic_test.csv')\n"
      ],
      "execution_count": 1,
      "outputs": [
        {
          "output_type": "stream",
          "name": "stdout",
          "text": [
            "Mounted at /gdrive\n"
          ]
        }
      ]
    },
    {
      "cell_type": "code",
      "metadata": {
        "colab": {
          "base_uri": "https://localhost:8080/"
        },
        "id": "tNkwHhtsq8P9",
        "outputId": "afd641a6-c6fd-47bf-f346-455740b96432"
      },
      "source": [
        "from sklearn.model_selection import train_test_split\n",
        "\n",
        "train, val = train_test_split(train, random_state=2)\n",
        "\n",
        "train.shape, test.shape"
      ],
      "execution_count": 2,
      "outputs": [
        {
          "output_type": "execute_result",
          "data": {
            "text/plain": [
              "((668, 13), (418, 12))"
            ]
          },
          "metadata": {},
          "execution_count": 2
        }
      ]
    },
    {
      "cell_type": "code",
      "metadata": {
        "colab": {
          "base_uri": "https://localhost:8080/"
        },
        "id": "M5mVIzTLv4i0",
        "outputId": "7eb3fb27-dd04-4ad0-c57a-c28e2a715af7"
      },
      "source": [
        "#타겟 범주 비율 확인\n",
        "target = 'Survived'\n",
        "\n",
        "y_train = train[target]\n",
        "y_train.value_counts(normalize = True)"
      ],
      "execution_count": 3,
      "outputs": [
        {
          "output_type": "execute_result",
          "data": {
            "text/plain": [
              "0    0.625749\n",
              "1    0.374251\n",
              "Name: Survived, dtype: float64"
            ]
          },
          "metadata": {},
          "execution_count": 3
        }
      ]
    },
    {
      "cell_type": "code",
      "metadata": {
        "id": "Uun26sjKwM59"
      },
      "source": [
        "#기준모델 : 최빈값\n",
        "\n",
        "basemd = y_train.mode()[0]\n",
        "y_pred = [basemd] * len(y_train)"
      ],
      "execution_count": 4,
      "outputs": []
    },
    {
      "cell_type": "code",
      "metadata": {
        "colab": {
          "base_uri": "https://localhost:8080/"
        },
        "id": "0tB2tqC5wd8z",
        "outputId": "e25adecb-71bf-4d15-8859-e839c401e6c3"
      },
      "source": [
        "#정확도 구하기 \n",
        "from sklearn.metrics import accuracy_score\n",
        "print(\"training accuracy: \", accuracy_score(y_train, y_pred))\n",
        "\n",
        "y_val = val[target]\n",
        "y_pred = [basemd] * len(y_val)\n",
        "print(\"validation accuracy: \", accuracy_score(y_val, y_pred))"
      ],
      "execution_count": 6,
      "outputs": [
        {
          "output_type": "stream",
          "name": "stdout",
          "text": [
            "training accuracy:  0.625748502994012\n",
            "validation accuracy:  0.5874439461883408\n"
          ]
        }
      ]
    },
    {
      "cell_type": "code",
      "metadata": {
        "id": "eX6Pdh7gxxUa"
      },
      "source": [
        "#로지스틱 회귀로 문제 풀기\n",
        "train.head()\n",
        "train = train.set_index(train.columns[0])"
      ],
      "execution_count": 8,
      "outputs": []
    },
    {
      "cell_type": "code",
      "metadata": {
        "colab": {
          "base_uri": "https://localhost:8080/"
        },
        "id": "wj7V52xl1J-5",
        "outputId": "7a20998e-0abb-4ea5-f46a-fe04e51bc2ee"
      },
      "source": [
        "train['Ticket'].value_counts()\n",
        "# Ticket 특성 제거 (high cardinality)\n",
        "# 생존에 영향을 주지 않는 특성 제거 후 모델링"
      ],
      "execution_count": 9,
      "outputs": [
        {
          "output_type": "execute_result",
          "data": {
            "text/plain": [
              "347088          6\n",
              "382652          5\n",
              "S.O.C. 14879    5\n",
              "3101295         5\n",
              "CA. 2343        5\n",
              "               ..\n",
              "W./C. 6609      1\n",
              "A/5. 2151       1\n",
              "PC 17600        1\n",
              "349206          1\n",
              "W./C. 14263     1\n",
              "Name: Ticket, Length: 539, dtype: int64"
            ]
          },
          "metadata": {},
          "execution_count": 9
        }
      ]
    },
    {
      "cell_type": "code",
      "metadata": {
        "colab": {
          "base_uri": "https://localhost:8080/"
        },
        "id": "D_RmSTWY1pBx",
        "outputId": "e5bf4075-bef2-4312-8733-bc8056ecf448"
      },
      "source": [
        "!pip install --upgrade category_encoders"
      ],
      "execution_count": 10,
      "outputs": [
        {
          "output_type": "stream",
          "name": "stdout",
          "text": [
            "Collecting category_encoders\n",
            "  Downloading category_encoders-2.2.2-py2.py3-none-any.whl (80 kB)\n",
            "\u001b[?25l\r\u001b[K     |████                            | 10 kB 21.6 MB/s eta 0:00:01\r\u001b[K     |████████▏                       | 20 kB 28.3 MB/s eta 0:00:01\r\u001b[K     |████████████▏                   | 30 kB 31.0 MB/s eta 0:00:01\r\u001b[K     |████████████████▎               | 40 kB 21.5 MB/s eta 0:00:01\r\u001b[K     |████████████████████▎           | 51 kB 9.4 MB/s eta 0:00:01\r\u001b[K     |████████████████████████▍       | 61 kB 10.9 MB/s eta 0:00:01\r\u001b[K     |████████████████████████████▍   | 71 kB 10.0 MB/s eta 0:00:01\r\u001b[K     |████████████████████████████████| 80 kB 4.9 MB/s \n",
            "\u001b[?25hRequirement already satisfied: pandas>=0.21.1 in /usr/local/lib/python3.7/dist-packages (from category_encoders) (1.1.5)\n",
            "Requirement already satisfied: scikit-learn>=0.20.0 in /usr/local/lib/python3.7/dist-packages (from category_encoders) (0.22.2.post1)\n",
            "Requirement already satisfied: statsmodels>=0.9.0 in /usr/local/lib/python3.7/dist-packages (from category_encoders) (0.10.2)\n",
            "Requirement already satisfied: numpy>=1.14.0 in /usr/local/lib/python3.7/dist-packages (from category_encoders) (1.19.5)\n",
            "Requirement already satisfied: scipy>=1.0.0 in /usr/local/lib/python3.7/dist-packages (from category_encoders) (1.4.1)\n",
            "Requirement already satisfied: patsy>=0.5.1 in /usr/local/lib/python3.7/dist-packages (from category_encoders) (0.5.1)\n",
            "Requirement already satisfied: pytz>=2017.2 in /usr/local/lib/python3.7/dist-packages (from pandas>=0.21.1->category_encoders) (2018.9)\n",
            "Requirement already satisfied: python-dateutil>=2.7.3 in /usr/local/lib/python3.7/dist-packages (from pandas>=0.21.1->category_encoders) (2.8.2)\n",
            "Requirement already satisfied: six in /usr/local/lib/python3.7/dist-packages (from patsy>=0.5.1->category_encoders) (1.15.0)\n",
            "Requirement already satisfied: joblib>=0.11 in /usr/local/lib/python3.7/dist-packages (from scikit-learn>=0.20.0->category_encoders) (1.0.1)\n",
            "Installing collected packages: category-encoders\n",
            "Successfully installed category-encoders-2.2.2\n"
          ]
        }
      ]
    },
    {
      "cell_type": "code",
      "metadata": {
        "colab": {
          "base_uri": "https://localhost:8080/"
        },
        "id": "o5BebtYO1xR6",
        "outputId": "5ee2892b-63df-4bcc-83f1-9968d6373092"
      },
      "source": [
        "from category_encoders import OneHotEncoder\n",
        "from sklearn.impute import SimpleImputer\n",
        "from sklearn.linear_model import LogisticRegression\n",
        "from sklearn.preprocessing import StandardScaler\n",
        "\n",
        "features = ['Pclass', 'Sex', 'Age', 'SibSp', 'Parch', 'Fare', 'Embarked']\n",
        "target = 'Survived'\n",
        "\n",
        "X_train = train[features]\n",
        "y_train = train[target]\n",
        "\n",
        "X_val = val[features]\n",
        "y_val = val[target]\n"
      ],
      "execution_count": 11,
      "outputs": [
        {
          "output_type": "stream",
          "name": "stderr",
          "text": [
            "/usr/local/lib/python3.7/dist-packages/statsmodels/tools/_testing.py:19: FutureWarning: pandas.util.testing is deprecated. Use the functions in the public API at pandas.testing instead.\n",
            "  import pandas.util.testing as tm\n"
          ]
        }
      ]
    },
    {
      "cell_type": "code",
      "metadata": {
        "colab": {
          "base_uri": "https://localhost:8080/"
        },
        "id": "GeV1h8KQ1216",
        "outputId": "c646bc5f-f7df-4f06-ed53-70862d8ce19d"
      },
      "source": [
        "# 범주형 변수 one hot encoding 수행\n",
        "encoder = OneHotEncoder(use_cat_names=True)\n",
        "X_train_encoded = encoder.fit_transform(X_train)\n",
        "X_val_encoded = encoder.transform(X_val)\n",
        "X_train_encoded.head(3)\n",
        "\n",
        "# 결측치 평균으로 변환\n",
        "imputer = SimpleImputer(strategy='mean')\n",
        "X_train_imputed = imputer.fit_transform(X_train_encoded)\n",
        "X_val_imputed = imputer.transform(X_val_encoded)\n",
        "\n",
        "# 특성값 표준화 : 특성들의 척도를 맞추기 위함 / 평균으로부터 얼마나 떨어져 있는지 \n",
        "scaler = StandardScaler()\n",
        "X_train_scaled = scaler.fit_transform(X_train_imputed)\n",
        "X_val_scaled = scaler.transform(X_val_imputed)\n",
        "\n",
        "#평균은 0 표준편차는 1 "
      ],
      "execution_count": 14,
      "outputs": [
        {
          "output_type": "stream",
          "name": "stderr",
          "text": [
            "/usr/local/lib/python3.7/dist-packages/category_encoders/utils.py:21: FutureWarning: is_categorical is deprecated and will be removed in a future version.  Use is_categorical_dtype instead\n",
            "  elif pd.api.types.is_categorical(cols):\n"
          ]
        }
      ]
    },
    {
      "cell_type": "code",
      "metadata": {
        "colab": {
          "base_uri": "https://localhost:8080/"
        },
        "id": "CyzTT5Pt3uPZ",
        "outputId": "f2130a51-6841-4d16-8395-8f5b0b5106c1"
      },
      "source": [
        "X_train_encoded, X_train_imputed , X_train_scaled"
      ],
      "execution_count": 19,
      "outputs": [
        {
          "output_type": "execute_result",
          "data": {
            "text/plain": [
              "(            Pclass  Sex_female  Sex_male  ...  Embarked_Q  Embarked_C  Embarked_nan\n",
              " Unnamed: 0                                ...                                      \n",
              " 199              2           1         0  ...           0           0             0\n",
              " 129              3           0         1  ...           0           0             0\n",
              " 90               3           0         1  ...           0           0             0\n",
              " 230              1           1         0  ...           0           0             0\n",
              " 126              3           0         1  ...           1           0             0\n",
              " ...            ...         ...       ...  ...         ...         ...           ...\n",
              " 534              3           1         0  ...           0           0             0\n",
              " 584              3           0         1  ...           0           1             0\n",
              " 493              1           0         1  ...           0           1             0\n",
              " 527              1           0         1  ...           0           0             0\n",
              " 168              1           0         1  ...           0           0             0\n",
              " \n",
              " [668 rows x 11 columns], array([[2., 1., 0., ..., 0., 0., 0.],\n",
              "        [3., 0., 1., ..., 0., 0., 0.],\n",
              "        [3., 0., 1., ..., 0., 0., 0.],\n",
              "        ...,\n",
              "        [1., 0., 1., ..., 0., 1., 0.],\n",
              "        [1., 0., 1., ..., 0., 0., 0.],\n",
              "        [1., 0., 1., ..., 0., 0., 0.]]), array([[-0.36411341,  1.33976829, -1.33976829, ..., -0.32832052,\n",
              "         -0.50327259, -0.05479966],\n",
              "        [ 0.83405288, -0.74639772,  0.74639772, ..., -0.32832052,\n",
              "         -0.50327259, -0.05479966],\n",
              "        [ 0.83405288, -0.74639772,  0.74639772, ..., -0.32832052,\n",
              "         -0.50327259, -0.05479966],\n",
              "        ...,\n",
              "        [-1.56227969, -0.74639772,  0.74639772, ..., -0.32832052,\n",
              "          1.98699475, -0.05479966],\n",
              "        [-1.56227969, -0.74639772,  0.74639772, ..., -0.32832052,\n",
              "         -0.50327259, -0.05479966],\n",
              "        [-1.56227969, -0.74639772,  0.74639772, ..., -0.32832052,\n",
              "         -0.50327259, -0.05479966]]))"
            ]
          },
          "metadata": {},
          "execution_count": 19
        }
      ]
    },
    {
      "cell_type": "code",
      "metadata": {
        "colab": {
          "base_uri": "https://localhost:8080/"
        },
        "id": "cO_7nZhs27zf",
        "outputId": "63af71d9-2e84-4d89-e2d9-84085283b78b"
      },
      "source": [
        "model = LogisticRegression(random_state=1)\n",
        "model.fit(X_train_scaled, y_train)\n",
        "\n",
        "y_pred = model.predict(X_val_scaled)\n",
        "accuracy_score(y_val, y_pred)\n",
        "\n",
        "#78%정도의 정확도"
      ],
      "execution_count": 18,
      "outputs": [
        {
          "output_type": "execute_result",
          "data": {
            "text/plain": [
              "0.7892376681614349"
            ]
          },
          "metadata": {},
          "execution_count": 18
        }
      ]
    },
    {
      "cell_type": "code",
      "metadata": {
        "colab": {
          "base_uri": "https://localhost:8080/"
        },
        "id": "qE1sOaRI3fR0",
        "outputId": "141a0b6d-b9d6-4a97-bd8c-2a120d4d12c3"
      },
      "source": [
        "# 특성별 계수로 영향도 확인 \n",
        "coeff = pd.Series(model.coef_[0], X_train_encoded.columns)\n",
        "coeff\n",
        "\n",
        "# 좌석등급 숫자가 작을 수록, 여성일수록, 나이가 어릴수록 생존이 높아짐."
      ],
      "execution_count": 20,
      "outputs": [
        {
          "output_type": "execute_result",
          "data": {
            "text/plain": [
              "Pclass         -0.915833\n",
              "Sex_female      0.662095\n",
              "Sex_male       -0.662095\n",
              "Age            -0.559957\n",
              "SibSp          -0.406466\n",
              "Parch          -0.015897\n",
              "Fare            0.078016\n",
              "Embarked_S     -0.094939\n",
              "Embarked_Q      0.007684\n",
              "Embarked_C      0.077224\n",
              "Embarked_nan    0.188837\n",
              "dtype: float64"
            ]
          },
          "metadata": {},
          "execution_count": 20
        }
      ]
    }
  ]
}