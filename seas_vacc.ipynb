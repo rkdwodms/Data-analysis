{
  "nbformat": 4,
  "nbformat_minor": 0,
  "metadata": {
    "colab": {
      "name": "seas_vacc.ipynb",
      "provenance": [],
      "authorship_tag": "ABX9TyNizyhWpzZd7hXDTy8QYIUu",
      "include_colab_link": true
    },
    "kernelspec": {
      "name": "python3",
      "display_name": "Python 3"
    },
    "language_info": {
      "name": "python"
    }
  },
  "cells": [
    {
      "cell_type": "markdown",
      "metadata": {
        "id": "view-in-github",
        "colab_type": "text"
      },
      "source": [
        "<a href=\"https://colab.research.google.com/github/rkdwodms/Data-analysis/blob/main/seas_vacc.ipynb\" target=\"_parent\"><img src=\"https://colab.research.google.com/assets/colab-badge.svg\" alt=\"Open In Colab\"/></a>"
      ]
    },
    {
      "cell_type": "code",
      "metadata": {
        "colab": {
          "base_uri": "https://localhost:8080/"
        },
        "id": "bMOMw_1sPKSd",
        "outputId": "84b68f28-f81d-49f1-d2d5-120674a11ff8"
      },
      "source": [
        "from google.colab import drive\n",
        "import pandas as pd\n",
        "drive.mount('/gdrive')\n",
        "\n",
        "# 데이터 불러오기\n",
        "\n",
        "train = pd.read_csv('/gdrive/My Drive/Colab Notebooks/data/Vacc_seas_train.csv')\n",
        "test = pd.read_csv('/gdrive/My Drive/Colab Notebooks/data/Vacc_seas_test.csv')"
      ],
      "execution_count": 5,
      "outputs": [
        {
          "output_type": "stream",
          "name": "stdout",
          "text": [
            "Drive already mounted at /gdrive; to attempt to forcibly remount, call drive.mount(\"/gdrive\", force_remount=True).\n"
          ]
        }
      ]
    },
    {
      "cell_type": "code",
      "metadata": {
        "colab": {
          "base_uri": "https://localhost:8080/"
        },
        "id": "aPP4cdOePvc7",
        "outputId": "0f33d669-f9ee-4e54-d7e7-d995bbdd50e7"
      },
      "source": [
        "from sklearn.model_selection import train_test_split\n",
        "\n",
        "target = 'vacc_seas_f'\n",
        "\n",
        "train, val = train_test_split(train, test_size=len(test),\n",
        "                              stratify=train[target], random_state=2)\n",
        "\n",
        "train.shape, val.shape, test.shape"
      ],
      "execution_count": 6,
      "outputs": [
        {
          "output_type": "execute_result",
          "data": {
            "text/plain": [
              "((28102, 40), (14052, 40), (14052, 39))"
            ]
          },
          "metadata": {},
          "execution_count": 6
        }
      ]
    },
    {
      "cell_type": "code",
      "metadata": {
        "colab": {
          "base_uri": "https://localhost:8080/"
        },
        "id": "-FJLb3fQUgnk",
        "outputId": "3d5fb48b-2573-462d-faba-5fbfb868331a"
      },
      "source": [
        "dels = [col for col in test.columns if ('employment' in col or 'h1n1' in col)]\n",
        "dels"
      ],
      "execution_count": 7,
      "outputs": [
        {
          "output_type": "execute_result",
          "data": {
            "text/plain": [
              "['h1n1_concern',\n",
              " 'h1n1_knowledge',\n",
              " 'doctor_recc_h1n1',\n",
              " 'opinion_h1n1_vacc_effective',\n",
              " 'opinion_h1n1_risk',\n",
              " 'opinion_h1n1_sick_from_vacc',\n",
              " 'employment_status',\n",
              " 'employment_industry',\n",
              " 'employment_occupation']"
            ]
          },
          "metadata": {},
          "execution_count": 7
        }
      ]
    },
    {
      "cell_type": "code",
      "metadata": {
        "colab": {
          "base_uri": "https://localhost:8080/"
        },
        "id": "I3NGJ8ZDT2lL",
        "outputId": "965c1dd7-b8a7-48ee-cd43-ff8790d74a46"
      },
      "source": [
        "def engineer(df):\n",
        "    \"\"\"특성을 엔지니어링 하는 함수입니다.\"\"\"\n",
        "        \n",
        "    # new feature\n",
        "    behaviorals = [col for col in df.columns if 'behavioral' in col] \n",
        "    df['behaviorals'] = df[behaviorals].sum(axis=1)\n",
        "\n",
        "    #h1n1 feature, employment feature del\n",
        "    dels = [col for col in df.columns if('employment' in col or 'h1n1' in col)]\n",
        "    df.drop(columns=dels, inplace=True)\n",
        "\n",
        "\n",
        "    return df\n",
        "\n",
        "\n",
        "train = engineer(train)\n",
        "val = engineer(val)\n",
        "test = engineer(test)\n",
        "\n",
        "\n",
        "train.shape, val.shape, test.shape"
      ],
      "execution_count": 8,
      "outputs": [
        {
          "output_type": "execute_result",
          "data": {
            "text/plain": [
              "((28102, 32), (14052, 32), (14052, 31))"
            ]
          },
          "metadata": {},
          "execution_count": 8
        }
      ]
    },
    {
      "cell_type": "code",
      "metadata": {
        "id": "VseDXmkiVCFY"
      },
      "source": [
        "feature = train.drop(columns=[target]).columns\n",
        "X_train = train[feature]\n",
        "y_train = train[target]\n",
        "\n",
        "X_val = val[feature]\n",
        "y_val = val[target]\n",
        "\n",
        "X_test = test[feature]"
      ],
      "execution_count": 11,
      "outputs": []
    },
    {
      "cell_type": "code",
      "metadata": {
        "colab": {
          "base_uri": "https://localhost:8080/"
        },
        "id": "swD6uZUCVcbs",
        "outputId": "6335ea75-dd44-4389-cb26-dbb81f191687"
      },
      "source": [
        "!pip install --upgrade category_encoders"
      ],
      "execution_count": 9,
      "outputs": [
        {
          "output_type": "stream",
          "name": "stdout",
          "text": [
            "Collecting category_encoders\n",
            "  Downloading category_encoders-2.2.2-py2.py3-none-any.whl (80 kB)\n",
            "\u001b[?25l\r\u001b[K     |████                            | 10 kB 26.9 MB/s eta 0:00:01\r\u001b[K     |████████▏                       | 20 kB 29.8 MB/s eta 0:00:01\r\u001b[K     |████████████▏                   | 30 kB 19.6 MB/s eta 0:00:01\r\u001b[K     |████████████████▎               | 40 kB 16.5 MB/s eta 0:00:01\r\u001b[K     |████████████████████▎           | 51 kB 7.6 MB/s eta 0:00:01\r\u001b[K     |████████████████████████▍       | 61 kB 8.8 MB/s eta 0:00:01\r\u001b[K     |████████████████████████████▍   | 71 kB 8.3 MB/s eta 0:00:01\r\u001b[K     |████████████████████████████████| 80 kB 5.0 MB/s \n",
            "\u001b[?25hRequirement already satisfied: scipy>=1.0.0 in /usr/local/lib/python3.7/dist-packages (from category_encoders) (1.4.1)\n",
            "Requirement already satisfied: patsy>=0.5.1 in /usr/local/lib/python3.7/dist-packages (from category_encoders) (0.5.1)\n",
            "Requirement already satisfied: pandas>=0.21.1 in /usr/local/lib/python3.7/dist-packages (from category_encoders) (1.1.5)\n",
            "Requirement already satisfied: statsmodels>=0.9.0 in /usr/local/lib/python3.7/dist-packages (from category_encoders) (0.10.2)\n",
            "Requirement already satisfied: scikit-learn>=0.20.0 in /usr/local/lib/python3.7/dist-packages (from category_encoders) (0.22.2.post1)\n",
            "Requirement already satisfied: numpy>=1.14.0 in /usr/local/lib/python3.7/dist-packages (from category_encoders) (1.19.5)\n",
            "Requirement already satisfied: python-dateutil>=2.7.3 in /usr/local/lib/python3.7/dist-packages (from pandas>=0.21.1->category_encoders) (2.8.2)\n",
            "Requirement already satisfied: pytz>=2017.2 in /usr/local/lib/python3.7/dist-packages (from pandas>=0.21.1->category_encoders) (2018.9)\n",
            "Requirement already satisfied: six in /usr/local/lib/python3.7/dist-packages (from patsy>=0.5.1->category_encoders) (1.15.0)\n",
            "Requirement already satisfied: joblib>=0.11 in /usr/local/lib/python3.7/dist-packages (from scikit-learn>=0.20.0->category_encoders) (1.0.1)\n",
            "Installing collected packages: category-encoders\n",
            "Successfully installed category-encoders-2.2.2\n"
          ]
        }
      ]
    },
    {
      "cell_type": "code",
      "metadata": {
        "colab": {
          "base_uri": "https://localhost:8080/"
        },
        "id": "gTZSmCqmVdQj",
        "outputId": "e173e11c-4341-42a1-c950-bee438482243"
      },
      "source": [
        "from sklearn.pipeline import make_pipeline\n",
        "from category_encoders import OrdinalEncoder\n",
        "from sklearn.impute import SimpleImputer\n",
        "from sklearn.ensemble import RandomForestClassifier\n",
        "from sklearn.metrics import accuracy_score\n",
        "\n",
        "pipe = make_pipeline(\n",
        "    OrdinalEncoder(),\n",
        "    SimpleImputer(),\n",
        "    RandomForestClassifier(n_estimators=100, random_state=2, n_jobs=-1)\n",
        "\n",
        ")\n",
        "\n",
        "pipe.fit(X_train, y_train)\n",
        "y_pred = pipe.predict(X_val)\n",
        "accuracy_score(y_val, y_pred)"
      ],
      "execution_count": 12,
      "outputs": [
        {
          "output_type": "execute_result",
          "data": {
            "text/plain": [
              "0.7587532023911187"
            ]
          },
          "metadata": {},
          "execution_count": 12
        }
      ]
    },
    {
      "cell_type": "code",
      "metadata": {
        "colab": {
          "base_uri": "https://localhost:8080/",
          "height": 278
        },
        "id": "FdVqb08WWMKA",
        "outputId": "5ac85a9a-4afa-41eb-ae48-12b9d744eb7a"
      },
      "source": [
        "# confusion matrix 분류 모델 성능 평가 지표\n",
        "\n",
        "from sklearn.metrics import plot_confusion_matrix\n",
        "import matplotlib.pyplot as plt\n",
        "\n",
        "fig, ax = plt.subplots()\n",
        "pcm = plot_confusion_matrix(pipe, X_val, y_val,\n",
        "                            cmap = plt.cm.Oranges,\n",
        "                            ax = ax);\n",
        "plt.show()                "
      ],
      "execution_count": 13,
      "outputs": [
        {
          "output_type": "display_data",
          "data": {
            "image/png": "[encoded data removed]",
            "text/plain": [
              "<Figure size 432x288 with 2 Axes>"
            ]
          },
          "metadata": {
            "needs_background": "light"
          }
        }
      ]
    },
    {
      "cell_type": "code",
      "metadata": {
        "colab": {
          "base_uri": "https://localhost:8080/"
        },
        "id": "UuGMngmYWyva",
        "outputId": "eb1b4e19-7346-4a43-a0b2-27c7e600e5c9"
      },
      "source": [
        "cm = pcm.confusion_matrix\n",
        "cm\n",
        "# cm[1][1] #TP : 백신 맞은 사람 잘 예측"
      ],
      "execution_count": 16,
      "outputs": [
        {
          "output_type": "execute_result",
          "data": {
            "text/plain": [
              "array([[6209, 1471],\n",
              "       [1919, 4453]])"
            ]
          },
          "metadata": {},
          "execution_count": 16
        }
      ]
    },
    {
      "cell_type": "code",
      "metadata": {
        "colab": {
          "base_uri": "https://localhost:8080/"
        },
        "id": "pWWHel2-XfpB",
        "outputId": "1b5e45ad-6844-4048-c365-692b1d45cfcb"
      },
      "source": [
        "import numpy as np\n",
        "# 맞춘 예측! 갯수\n",
        "\n",
        "corr_pred = np.diag(cm).sum()\n",
        "corr_pred\n",
        "\n",
        "# 총 예측 갯수 \n",
        "total_pred = cm.sum()\n",
        "total_pred"
      ],
      "execution_count": 21,
      "outputs": [
        {
          "output_type": "execute_result",
          "data": {
            "text/plain": [
              "14052"
            ]
          },
          "metadata": {},
          "execution_count": 21
        }
      ]
    },
    {
      "cell_type": "code",
      "metadata": {
        "colab": {
          "base_uri": "https://localhost:8080/"
        },
        "id": "biL1xAmQYfTg",
        "outputId": "5d270f86-7873-4c36-f1a5-68fe14d55425"
      },
      "source": [
        "# 재현률, 정밀도 확인\n",
        "\n",
        "from sklearn.metrics import classification_report\n",
        "print(classification_report(y_val, y_pred))"
      ],
      "execution_count": 22,
      "outputs": [
        {
          "output_type": "stream",
          "name": "stdout",
          "text": [
            "              precision    recall  f1-score   support\n",
            "\n",
            "           0       0.76      0.81      0.79      7680\n",
            "           1       0.75      0.70      0.72      6372\n",
            "\n",
            "    accuracy                           0.76     14052\n",
            "   macro avg       0.76      0.75      0.75     14052\n",
            "weighted avg       0.76      0.76      0.76     14052\n",
            "\n"
          ]
        }
      ]
    },
    {
      "cell_type": "code",
      "metadata": {
        "colab": {
          "base_uri": "https://localhost:8080/",
          "height": 414
        },
        "id": "7anEA_D9Yh5z",
        "outputId": "08ff0941-29c6-42cb-c99c-4a8c3e312a07"
      },
      "source": [
        "from sklearn.metrics import roc_curve\n",
        "\n",
        "y_pred_proba = pipe.predict_proba(X_val)[:, 1]\n",
        "# roc_curve ( target, 1을 예측할 확률 )\n",
        "fpr, tpr, thresholds = roc_curve(y_val, y_pred_proba)\n",
        "\n",
        "roc = pd.DataFrame({\n",
        "    'FPR(Fall-out)': fpr, \n",
        "    'TPRate(Recall)': tpr, \n",
        "    'Threshold': thresholds\n",
        "})\n",
        "\n",
        "roc"
      ],
      "execution_count": 24,
      "outputs": [
        {
          "output_type": "execute_result",
          "data": {
            "text/html": [
              "<div>\n",
              "<style scoped>\n",
              "    .dataframe tbody tr th:only-of-type {\n",
              "        vertical-align: middle;\n",
              "    }\n",
              "\n",
              "    .dataframe tbody tr th {\n",
              "        vertical-align: top;\n",
              "    }\n",
              "\n",
              "    .dataframe thead th {\n",
              "        text-align: right;\n",
              "    }\n",
              "</style>\n",
              "<table border=\"1\" class=\"dataframe\">\n",
              "  <thead>\n",
              "    <tr style=\"text-align: right;\">\n",
              "      <th></th>\n",
              "      <th>FPR(Fall-out)</th>\n",
              "      <th>TPRate(Recall)</th>\n",
              "      <th>Threshold</th>\n",
              "    </tr>\n",
              "  </thead>\n",
              "  <tbody>\n",
              "    <tr>\n",
              "      <th>0</th>\n",
              "      <td>0.000000</td>\n",
              "      <td>0.000000</td>\n",
              "      <td>2.00</td>\n",
              "    </tr>\n",
              "    <tr>\n",
              "      <th>1</th>\n",
              "      <td>0.000000</td>\n",
              "      <td>0.001412</td>\n",
              "      <td>1.00</td>\n",
              "    </tr>\n",
              "    <tr>\n",
              "      <th>2</th>\n",
              "      <td>0.000260</td>\n",
              "      <td>0.004708</td>\n",
              "      <td>0.99</td>\n",
              "    </tr>\n",
              "    <tr>\n",
              "      <th>3</th>\n",
              "      <td>0.000391</td>\n",
              "      <td>0.009887</td>\n",
              "      <td>0.98</td>\n",
              "    </tr>\n",
              "    <tr>\n",
              "      <th>4</th>\n",
              "      <td>0.000911</td>\n",
              "      <td>0.016008</td>\n",
              "      <td>0.97</td>\n",
              "    </tr>\n",
              "    <tr>\n",
              "      <th>...</th>\n",
              "      <td>...</td>\n",
              "      <td>...</td>\n",
              "      <td>...</td>\n",
              "    </tr>\n",
              "    <tr>\n",
              "      <th>97</th>\n",
              "      <td>0.989062</td>\n",
              "      <td>0.999372</td>\n",
              "      <td>0.04</td>\n",
              "    </tr>\n",
              "    <tr>\n",
              "      <th>98</th>\n",
              "      <td>0.995052</td>\n",
              "      <td>0.999843</td>\n",
              "      <td>0.03</td>\n",
              "    </tr>\n",
              "    <tr>\n",
              "      <th>99</th>\n",
              "      <td>0.997396</td>\n",
              "      <td>1.000000</td>\n",
              "      <td>0.02</td>\n",
              "    </tr>\n",
              "    <tr>\n",
              "      <th>100</th>\n",
              "      <td>0.999479</td>\n",
              "      <td>1.000000</td>\n",
              "      <td>0.01</td>\n",
              "    </tr>\n",
              "    <tr>\n",
              "      <th>101</th>\n",
              "      <td>1.000000</td>\n",
              "      <td>1.000000</td>\n",
              "      <td>0.00</td>\n",
              "    </tr>\n",
              "  </tbody>\n",
              "</table>\n",
              "<p>102 rows × 3 columns</p>\n",
              "</div>"
            ],
            "text/plain": [
              "     FPR(Fall-out)  TPRate(Recall)  Threshold\n",
              "0         0.000000        0.000000       2.00\n",
              "1         0.000000        0.001412       1.00\n",
              "2         0.000260        0.004708       0.99\n",
              "3         0.000391        0.009887       0.98\n",
              "4         0.000911        0.016008       0.97\n",
              "..             ...             ...        ...\n",
              "97        0.989062        0.999372       0.04\n",
              "98        0.995052        0.999843       0.03\n",
              "99        0.997396        1.000000       0.02\n",
              "100       0.999479        1.000000       0.01\n",
              "101       1.000000        1.000000       0.00\n",
              "\n",
              "[102 rows x 3 columns]"
            ]
          },
          "metadata": {},
          "execution_count": 24
        }
      ]
    },
    {
      "cell_type": "code",
      "metadata": {
        "colab": {
          "base_uri": "https://localhost:8080/",
          "height": 294
        },
        "id": "AQUqjmpoLwju",
        "outputId": "19f006ae-062e-4f17-80d6-c2cb63467405"
      },
      "source": [
        "plt.scatter(fpr, tpr)\n",
        "plt.title('ROC curve')\n",
        "plt.xlabel('FPR(Fall-out)')\n",
        "plt.ylabel('TPR(Recall)');"
      ],
      "execution_count": 25,
      "outputs": [
        {
          "output_type": "display_data",
          "data": {
            "image/png": "[encoded data removed]",
            "text/plain": [
              "<Figure size 432x288 with 1 Axes>"
            ]
          },
          "metadata": {
            "needs_background": "light"
          }
        }
      ]
    },
    {
      "cell_type": "code",
      "metadata": {
        "colab": {
          "base_uri": "https://localhost:8080/"
        },
        "id": "MI659Wu_MEl9",
        "outputId": "93452521-abe3-4146-b8c5-f5de307a99f7"
      },
      "source": [
        "# 최적의 임계값 찾기 \n",
        "idx = np.argmax(tpr-fpr)\n",
        "thred = thresholds[idx]\n",
        "\n",
        "idx, thred"
      ],
      "execution_count": 26,
      "outputs": [
        {
          "output_type": "execute_result",
          "data": {
            "text/plain": [
              "(55, 0.46)"
            ]
          },
          "metadata": {},
          "execution_count": 26
        }
      ]
    },
    {
      "cell_type": "code",
      "metadata": {
        "colab": {
          "base_uri": "https://localhost:8080/"
        },
        "id": "R7wMmEq8OPrB",
        "outputId": "c8d1bccb-dfb7-42fa-a6c7-00223d33d468"
      },
      "source": [
        "from sklearn.metrics import roc_auc_score\n",
        "auc_score = roc_auc_score(y_val, y_pred_proba)\n",
        "auc_score"
      ],
      "execution_count": 27,
      "outputs": [
        {
          "output_type": "execute_result",
          "data": {
            "text/plain": [
              "0.8233378411736243"
            ]
          },
          "metadata": {},
          "execution_count": 27
        }
      ]
    }
  ]
}